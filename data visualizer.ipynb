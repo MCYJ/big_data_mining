{
 "cells": [
  {
   "cell_type": "code",
   "execution_count": 75,
   "metadata": {},
   "outputs": [
    {
     "data": {
      "text/html": [
       "<div>\n",
       "<style scoped>\n",
       "    .dataframe tbody tr th:only-of-type {\n",
       "        vertical-align: middle;\n",
       "    }\n",
       "\n",
       "    .dataframe tbody tr th {\n",
       "        vertical-align: top;\n",
       "    }\n",
       "\n",
       "    .dataframe thead th {\n",
       "        text-align: right;\n",
       "    }\n",
       "</style>\n",
       "<table border=\"1\" class=\"dataframe\">\n",
       "  <thead>\n",
       "    <tr style=\"text-align: right;\">\n",
       "      <th></th>\n",
       "      <th>interest rate</th>\n",
       "      <th>exchange rate</th>\n",
       "    </tr>\n",
       "  </thead>\n",
       "  <tbody>\n",
       "    <tr>\n",
       "      <th>interest rate</th>\n",
       "      <td>1.000000</td>\n",
       "      <td>-0.014433</td>\n",
       "    </tr>\n",
       "    <tr>\n",
       "      <th>exchange rate</th>\n",
       "      <td>-0.014433</td>\n",
       "      <td>1.000000</td>\n",
       "    </tr>\n",
       "  </tbody>\n",
       "</table>\n",
       "</div>"
      ],
      "text/plain": [
       "               interest rate  exchange rate\n",
       "interest rate       1.000000      -0.014433\n",
       "exchange rate      -0.014433       1.000000"
      ]
     },
     "execution_count": 75,
     "metadata": {},
     "output_type": "execute_result"
    }
   ],
   "source": [
    "import pandas as pd\n",
    "import matplotlib.pyplot as plt\n",
    "\n",
    "kodex_200 = pd.read_csv('C:/Users/82105/Documents/GitHub/big_data_mining/src/069500.KS.csv')\n",
    "\n",
    "kodex_200.fillna(method='ffill')\n",
    "\n",
    "\n",
    "ticker_list = ['interest_rate.csv',\n",
    "               'exchange_rate.csv']\n",
    "            #    '069500.KS.csv',\n",
    "            #    '091160.KS.csv',\n",
    "            #    '091170.KS.csv',\n",
    "            #    '091180.KS.csv',\n",
    "            #    '102960.KS.csv',\n",
    "            #    '117700.KS.csv',\n",
    "            #    '140710.KS.csv',\n",
    "            #    '266360.KS.csv',\n",
    "            #    '266370.KS.csv',\n",
    "            #    '266420.KS.csv']\n",
    "\n",
    "# for name in ticker_list:\n",
    "#     df = pd.read_csv(f'C:/Users/82105/Documents/GitHub/big_data_mining/src/{name}')\n",
    "#     df.dropna()\n",
    "#     # print(name, df.iloc[0, 0].replace('/','-').split('-'))\n",
    "#     if len(df.iloc[0,:]) <= 2:\n",
    "#         plt.plot(df.iloc[:,1].pct_change(), alpha=0.7)\n",
    "#     else:\n",
    "#         plt.plot(df.iloc[:,5].pct_change(), alpha=0.7)\n",
    "df1 = pd.read_csv(f'C:/Users/82105/Documents/GitHub/big_data_mining/src/interest_rate.csv')\n",
    "df2 = pd.read_csv(f'C:/Users/82105/Documents/GitHub/big_data_mining/src/exchange_rate.csv')\n",
    "\n",
    "# print(name, df.iloc[0, 0].replace('/','-').split('-'))\n",
    "# plt.rc('font', family='Mangun Gothic')\n",
    "# plt.figure(figsize=(5,3), dpi=500)\n",
    "# plt.plot(df1.iloc[:,1].pct_change(), alpha=0.7, c='r', label='interest rate')\n",
    "# plt.plot(df2.iloc[:,1].pct_change(), alpha=0.7, c='b', label='exchange rate')\n",
    "# plt.legend()\n",
    "\n",
    "# plt.plot(kodex_200.iloc[100:,5], label='KODEX 200')\n",
    "# plt.legend()\n",
    "# print(len(kodex_200))\n",
    "result = pd.concat([df1.iloc[:,1].pct_change(), df2.iloc[:,1].pct_change()], axis=1)\n",
    "result.columns = ['interest rate', 'exchange rate']\n",
    "result.corr()\n"
   ]
  }
 ],
 "metadata": {
  "kernelspec": {
   "display_name": "tutorial",
   "language": "python",
   "name": "python3"
  },
  "language_info": {
   "codemirror_mode": {
    "name": "ipython",
    "version": 3
   },
   "file_extension": ".py",
   "mimetype": "text/x-python",
   "name": "python",
   "nbconvert_exporter": "python",
   "pygments_lexer": "ipython3",
   "version": "3.8.5"
  }
 },
 "nbformat": 4,
 "nbformat_minor": 2
}
